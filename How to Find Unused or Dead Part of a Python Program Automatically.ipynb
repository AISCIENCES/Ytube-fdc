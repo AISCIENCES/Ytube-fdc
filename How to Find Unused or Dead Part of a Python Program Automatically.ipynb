{
 "cells": [
  {
   "cell_type": "code",
   "execution_count": 2,
   "id": "6b882f7f",
   "metadata": {},
   "outputs": [
    {
     "name": "stdout",
     "output_type": "stream",
     "text": [
      "Collecting vulture\n",
      "  Downloading vulture-2.5-py2.py3-none-any.whl (26 kB)\n",
      "Requirement already satisfied: toml in c:\\users\\dell\\anaconda3\\lib\\site-packages (from vulture) (0.10.2)\n",
      "Installing collected packages: vulture\n",
      "Successfully installed vulture-2.5\n"
     ]
    }
   ],
   "source": [
    "!pip install vulture"
   ]
  },
  {
   "cell_type": "code",
   "execution_count": 4,
   "id": "3fcf18d3",
   "metadata": {},
   "outputs": [
    {
     "name": "stdout",
     "output_type": "stream",
     "text": [
      "100\n"
     ]
    }
   ],
   "source": [
    "a, b, c = 20, 10, 5\n",
    "\n",
    "def fun1():\n",
    "    summ = a+b\n",
    "    print(sum)\n",
    "    \n",
    "def fun2():\n",
    "    b = 100\n",
    "    print(b)\n",
    "    \n",
    "    \n",
    "fun2()"
   ]
  },
  {
   "cell_type": "code",
   "execution_count": null,
   "id": "ee1a8943",
   "metadata": {},
   "outputs": [],
   "source": []
  },
  {
   "cell_type": "code",
   "execution_count": null,
   "id": "7321917b",
   "metadata": {},
   "outputs": [],
   "source": []
  },
  {
   "cell_type": "code",
   "execution_count": null,
   "id": "4431138e",
   "metadata": {},
   "outputs": [],
   "source": []
  },
  {
   "cell_type": "code",
   "execution_count": null,
   "id": "0c11e0cc",
   "metadata": {},
   "outputs": [],
   "source": []
  }
 ],
 "metadata": {
  "kernelspec": {
   "display_name": "Python 3 (ipykernel)",
   "language": "python",
   "name": "python3"
  },
  "language_info": {
   "codemirror_mode": {
    "name": "ipython",
    "version": 3
   },
   "file_extension": ".py",
   "mimetype": "text/x-python",
   "name": "python",
   "nbconvert_exporter": "python",
   "pygments_lexer": "ipython3",
   "version": "3.9.12"
  }
 },
 "nbformat": 4,
 "nbformat_minor": 5
}
